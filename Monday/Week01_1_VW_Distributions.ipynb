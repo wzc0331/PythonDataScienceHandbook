{
 "cells": [
  {
   "cell_type": "markdown",
   "metadata": {},
   "source": [
    "## Fundamentals of Social Data Science: Week 1, Day 1\n",
    "# Distributions\n",
    "\n",
    "We begin our lessons on social data science with an interest in the 'distribution'. Distributions are both mathematical concepts and empirical ones. \n",
    "\n",
    "- **Empirical distributions**: Collections of measurements. \n",
    "- **Mathematical distributions**: Formulae for calculating a particular value given some other value. \n",
    "\n",
    "All distributions have a shape. For empirical distributions that shape is often very uneven and only approximated by a mathematical formula. \n",
    "\n",
    "When we work with empirical distributions, we are normally working with a collection in a data set. But what we want to claim about the distributions will require us to understand its relationship to these more abstract mathematical distributions. \n",
    "\n",
    "While this is a course in _social_ data science, we will start with some basic distributions and some toy data. One classic data set for looking at relationships in data is the Iris data, collected by Edgar Anderson and used by renowned statistician R. A. Fisher in a seminal paper on classification. This is a set of measurements of different flowers in the same family. We use this partially because it is a well behaved data set and partially because it is available easily, allowing us to get up and running quickly. \n",
    "\n",
    "To follow this tutorial, you will need some external Python packages. This includes `sklearn` and `scipy`. First check to see if these are installed: "
   ]
  },
  {
   "cell_type": "markdown",
   "metadata": {},
   "source": [
    "> Note that in this version of the walkthrough I will create a 'virtual environment' using Visual Studio. In order to do this yourself, you will need to have the requirements.txt file in the root directory of the folder you are working in. I will be creating a virtual environment for _this week_ and so we will be opening that folder. \n",
    "\n",
    "> Note that within the folder containing this file should be a folder called \"data\". In that folder, place the `movies.feather` file. "
   ]
  },
  {
   "cell_type": "code",
   "execution_count": 1,
   "metadata": {},
   "outputs": [
    {
     "name": "stdout",
     "output_type": "stream",
     "text": [
      "2.2.3\n",
      "The iris data is of the following type:  <class 'sklearn.utils._bunch.Bunch'>\n"
     ]
    }
   ],
   "source": [
    "import numpy as np\n",
    "from scipy import stats\n",
    "import pandas as pd\n",
    "import sklearn \n",
    "\n",
    "print(pd.__version__)\n",
    "\n",
    "from sklearn.datasets import load_iris\n",
    "iris = load_iris()\n",
    "\n",
    "print(\"The iris data is of the following type: \", type(iris))\n"
   ]
  },
  {
   "cell_type": "markdown",
   "metadata": {},
   "source": [
    "If this code ran without problems it will report the version of seaborn. In this case, I am using version `0.13.2` but your version might differ slightly. It will also If you do not have it installed, then run the line `pip install ...`  (uncomment it). It should install the package in the version of Python that you are using in this notebook."
   ]
  },
  {
   "cell_type": "markdown",
   "metadata": {},
   "source": [
    "The iris data should similarly load without problems in which case it will say that the type is a `<class 'sklearn.utils._bunch.Bunch'>`. But this is not a useful type for us. Instead, we will want to transform it into a DataFrame. The DataFrame is one of two common ways to store tabular data in Python, the other is in numpy arrays. numpy is more useful when we start doing calculations on the data set, whereas DataFrames are more useful when we have data with many kinds of objects, such as numbers, dates, text, and even images or other Python objects. \n",
    "\n",
    "We will discuss DataFrames at greater length in the next lecture. For now, the important aspect of a DataFrame is that it is a table, meaning that it has rows and columns. Each column is a distribution, and the rows represent individual measurements.  "
   ]
  },
  {
   "cell_type": "code",
   "execution_count": 9,
   "metadata": {},
   "outputs": [
    {
     "name": "stdout",
     "output_type": "stream",
     "text": [
      "The columns in the Iris data:\n",
      "sepal length (cm)\n",
      "sepal width (cm)\n",
      "petal length (cm)\n",
      "petal width (cm)\n"
     ]
    }
   ],
   "source": [
    "iris_df = pd.DataFrame(data=iris.data, columns=iris.feature_names)\n",
    "print(\"The columns in the Iris data:\\n\", \"\\n\".join(iris_df.columns), sep=\"\")"
   ]
  },
  {
   "cell_type": "markdown",
   "metadata": {},
   "source": [
    "First we will turn the iris data into a DataFrame. Then we can look at a single distribution within the data. "
   ]
  },
  {
   "cell_type": "code",
   "execution_count": 10,
   "metadata": {},
   "outputs": [
    {
     "data": {
      "text/html": [
       "<div>\n",
       "<style scoped>\n",
       "    .dataframe tbody tr th:only-of-type {\n",
       "        vertical-align: middle;\n",
       "    }\n",
       "\n",
       "    .dataframe tbody tr th {\n",
       "        vertical-align: top;\n",
       "    }\n",
       "\n",
       "    .dataframe thead th {\n",
       "        text-align: right;\n",
       "    }\n",
       "</style>\n",
       "<table border=\"1\" class=\"dataframe\">\n",
       "  <thead>\n",
       "    <tr style=\"text-align: right;\">\n",
       "      <th></th>\n",
       "      <th>sepal length (cm)</th>\n",
       "      <th>sepal width (cm)</th>\n",
       "      <th>petal length (cm)</th>\n",
       "      <th>petal width (cm)</th>\n",
       "    </tr>\n",
       "  </thead>\n",
       "  <tbody>\n",
       "    <tr>\n",
       "      <th>0</th>\n",
       "      <td>5.1</td>\n",
       "      <td>3.5</td>\n",
       "      <td>1.4</td>\n",
       "      <td>0.2</td>\n",
       "    </tr>\n",
       "    <tr>\n",
       "      <th>1</th>\n",
       "      <td>4.9</td>\n",
       "      <td>3.0</td>\n",
       "      <td>1.4</td>\n",
       "      <td>0.2</td>\n",
       "    </tr>\n",
       "    <tr>\n",
       "      <th>2</th>\n",
       "      <td>4.7</td>\n",
       "      <td>3.2</td>\n",
       "      <td>1.3</td>\n",
       "      <td>0.2</td>\n",
       "    </tr>\n",
       "    <tr>\n",
       "      <th>3</th>\n",
       "      <td>4.6</td>\n",
       "      <td>3.1</td>\n",
       "      <td>1.5</td>\n",
       "      <td>0.2</td>\n",
       "    </tr>\n",
       "    <tr>\n",
       "      <th>4</th>\n",
       "      <td>5.0</td>\n",
       "      <td>3.6</td>\n",
       "      <td>1.4</td>\n",
       "      <td>0.2</td>\n",
       "    </tr>\n",
       "    <tr>\n",
       "      <th>...</th>\n",
       "      <td>...</td>\n",
       "      <td>...</td>\n",
       "      <td>...</td>\n",
       "      <td>...</td>\n",
       "    </tr>\n",
       "    <tr>\n",
       "      <th>145</th>\n",
       "      <td>6.7</td>\n",
       "      <td>3.0</td>\n",
       "      <td>5.2</td>\n",
       "      <td>2.3</td>\n",
       "    </tr>\n",
       "    <tr>\n",
       "      <th>146</th>\n",
       "      <td>6.3</td>\n",
       "      <td>2.5</td>\n",
       "      <td>5.0</td>\n",
       "      <td>1.9</td>\n",
       "    </tr>\n",
       "    <tr>\n",
       "      <th>147</th>\n",
       "      <td>6.5</td>\n",
       "      <td>3.0</td>\n",
       "      <td>5.2</td>\n",
       "      <td>2.0</td>\n",
       "    </tr>\n",
       "    <tr>\n",
       "      <th>148</th>\n",
       "      <td>6.2</td>\n",
       "      <td>3.4</td>\n",
       "      <td>5.4</td>\n",
       "      <td>2.3</td>\n",
       "    </tr>\n",
       "    <tr>\n",
       "      <th>149</th>\n",
       "      <td>5.9</td>\n",
       "      <td>3.0</td>\n",
       "      <td>5.1</td>\n",
       "      <td>1.8</td>\n",
       "    </tr>\n",
       "  </tbody>\n",
       "</table>\n",
       "<p>150 rows × 4 columns</p>\n",
       "</div>"
      ],
      "text/plain": [
       "     sepal length (cm)  sepal width (cm)  petal length (cm)  petal width (cm)\n",
       "0                  5.1               3.5                1.4               0.2\n",
       "1                  4.9               3.0                1.4               0.2\n",
       "2                  4.7               3.2                1.3               0.2\n",
       "3                  4.6               3.1                1.5               0.2\n",
       "4                  5.0               3.6                1.4               0.2\n",
       "..                 ...               ...                ...               ...\n",
       "145                6.7               3.0                5.2               2.3\n",
       "146                6.3               2.5                5.0               1.9\n",
       "147                6.5               3.0                5.2               2.0\n",
       "148                6.2               3.4                5.4               2.3\n",
       "149                5.9               3.0                5.1               1.8\n",
       "\n",
       "[150 rows x 4 columns]"
      ]
     },
     "metadata": {},
     "output_type": "display_data"
    }
   ],
   "source": [
    "display(iris_df)\n",
    "# print(iris_df)"
   ]
  },
  {
   "cell_type": "markdown",
   "metadata": {},
   "source": [
    "Notice that Python truncates the data, so displaying the data will not necessarily reveal all of the measurements. But indeed we can see there are 4 columns each with some numbers in there. You can also force Python to display more of the table, but ultimately this is not the best way to browse the data. \n",
    "\n",
    "In Visual Studio there are indeed ways to view this data more effectively. \n",
    "\n",
    "Let's try the following steps: \n",
    "1. Click the \"Variables\" button in the upper right corner. If your screen is small it might be under an ellisis just to the left of where it notes the Kernel (in my case it is an icon of a tower followed by `base (Python 3.12.2)`). \n",
    "2. Look in the table of variables for `iris_df`. Notice the little call-out icon on the left hand side. Click it. \n",
    "3. This might ask you to install an extension for VS called the \"Microsoft Data Wrangler\". Agree to install it. Then return and click again. You should see a view that will now have distributions for all of the four variables. \n",
    "\n",
    "In the data wrangling view, have a look at the four columns. At the top of the table should be a visual representation of the data as a histogram of values, followed by a summary of the values, and then followed by the rows of the data set. \n",
    "\n",
    "Which of the four distributions looks the most like a normal distribution? Recall that a normal distribution is one that has a mid-point which should have the most common values and that as we get away from the mid-point the values get decreasingly likely. For this reason, some refer to the normal distribution as a 'bell curve'. \n"
   ]
  },
  {
   "cell_type": "markdown",
   "metadata": {},
   "source": [
    "Indeed, `sepal_width` appears to have the distribution that looks the most like a normal distributon. However, in addition to a visual inspection of this, we can also use a series of statistical tests to explore how much this distribution resembles a normal distribution. In particular, we can use 'skewness' and 'kurtosis' as a measures of normality as well as a Shapiro-Wilks test of normality which measures deviation from an ideal normal curve. Let's look at each of these in turn. \n",
    "\n",
    "We will compare each of the variables to these concepts one after the other: "
   ]
  },
  {
   "cell_type": "code",
   "execution_count": 11,
   "metadata": {},
   "outputs": [
    {
     "name": "stdout",
     "output_type": "stream",
     "text": [
      "sepal length (cm)\n",
      "sepal width (cm)\n",
      "petal length (cm)\n",
      "petal width (cm)\n"
     ]
    }
   ],
   "source": [
    "\n",
    "numeric_columns = iris_df.select_dtypes(include=[np.number]).columns\n",
    "print(\"\\n\".join(numeric_columns))"
   ]
  },
  {
   "cell_type": "code",
   "execution_count": 12,
   "metadata": {},
   "outputs": [
    {
     "name": "stdout",
     "output_type": "stream",
     "text": [
      "Skewness:\n",
      "sepal length (cm)    0.314911\n",
      "sepal width (cm)     0.318966\n",
      "petal length (cm)   -0.274884\n",
      "petal width (cm)    -0.102967\n",
      "dtype: float64\n"
     ]
    }
   ],
   "source": [
    "# Skewness: To what extent does the variable skew left (negative) or right (positive)?\n",
    "\n",
    "skewness = iris_df[numeric_columns].skew()\n",
    "\n",
    "print(\"Skewness:\\n\", skewness, sep=\"\")"
   ]
  },
  {
   "cell_type": "markdown",
   "metadata": {},
   "source": [
    "It appears that the data all have some slight skew. The sepals are slightly right-skewed and petals are slightly left-skewed. Now Kurtosis asks about how spiky the peaks are in the data. Go back and have a look at the distributions and guess which ones are the most spiky (i.e. have the highest peak relative to their spread)."
   ]
  },
  {
   "cell_type": "code",
   "execution_count": 13,
   "metadata": {},
   "outputs": [
    {
     "name": "stdout",
     "output_type": "stream",
     "text": [
      "\n",
      "Kurtosis:\n",
      "sepal length (cm)   -0.552064\n",
      "sepal width (cm)     0.228249\n",
      "petal length (cm)   -1.402103\n",
      "petal width (cm)    -1.340604\n",
      "dtype: float64\n"
     ]
    }
   ],
   "source": [
    "kurtosis = iris_df[numeric_columns].kurtosis()\n",
    "\n",
    "print(\"\\nKurtosis:\\n\", kurtosis, sep=\"\")"
   ]
  },
  {
   "cell_type": "markdown",
   "metadata": {},
   "source": [
    "So the sepal width as a slight spikiness whereas the others are generally more flat than a normal curve. Now skewness and kurtosis do not give us the sort of statistical estimation that would be useful. Instead, we can use a Shapiro-Wilks test to ask how 'significantly different' the data is from a normal distribution. This involves both reporting a score on the test and a p-value. \n",
    "\n",
    "P-values are highly useful in measuring things in data science, though they are not the only means to establish a relationship. One effective way to talk about them is instead of saying 'significant' we say 'significantly different' instead. So in this case, if the result is below 0.05 it means that there is less than 1 in 20 chance that the true distribution is actually normal given the data that we have observed. \n",
    "\n",
    "If you have encountered p-values before this one might be counter intuitive since we are _not_ looking for significance. If it is significant that means it's _significantly different from normality_. \n",
    "\n",
    "So think about that for a minute before looking to the results. Look at the distributions and think \"will this be below 0.05 or above it?\" "
   ]
  },
  {
   "cell_type": "code",
   "execution_count": 14,
   "metadata": {},
   "outputs": [
    {
     "name": "stdout",
     "output_type": "stream",
     "text": [
      "\n",
      "Shapiro-Wilk Test Results:\n",
      "sepal length (cm): statistic=0.9761, p-value=0.0102\n",
      "sepal width (cm): statistic=0.9849, p-value=0.1012\n",
      "petal length (cm): statistic=0.8763, p-value=0.0000\n",
      "petal width (cm): statistic=0.9018, p-value=0.0000\n"
     ]
    }
   ],
   "source": [
    "# Perform Shapiro-Wilk test for normality\n",
    "shapiro_results = {}\n",
    "for column in numeric_columns:\n",
    "    stat, p = stats.shapiro(iris_df[column])\n",
    "    shapiro_results[column] = {'statistic': stat, 'p-value': p}\n",
    "\n",
    "print(\"\\nShapiro-Wilk Test Results:\")\n",
    "for column, result in shapiro_results.items():\n",
    "    print(f\"{column}: statistic={result['statistic']:.4f}, p-value={result['p-value']:.4f}\")"
   ]
  },
  {
   "cell_type": "markdown",
   "metadata": {},
   "source": [
    "Finally, the last way to explore this data is visually, which will allow us to see whether the deviation from normality is more prevalent near the middle of the distribution or more prevalent near the tails. For this we can use a \"Q-Q\" plot. This will also allow us to explore how Python does plotting.\n",
    "\n",
    "To plot in Python we typically use the `matplotlib` package or some derivation of that package such as `seaborn`. To make a plot we first make a plot 'object'. Then we layer things on to that plot object. This also means that the things you layer on later will appear on top of the things you layer earlier, so be mindful of the order in which you build your plot. \n",
    "\n",
    "At the end of creating the plot, you would want to either show the plot in the frame (as we will do here) or save the plot as a figure. "
   ]
  },
  {
   "cell_type": "code",
   "execution_count": 15,
   "metadata": {},
   "outputs": [
    {
     "data": {
      "image/png": "[encoded data removed]",
      "text/plain": [
       "<Figure size 1500x1000 with 4 Axes>"
      ]
     },
     "metadata": {},
     "output_type": "display_data"
    }
   ],
   "source": [
    "import matplotlib.pyplot as plt\n",
    "\n",
    "# Create Q-Q plots\n",
    "fig, axes = plt.subplots(2, 2, figsize=(15, 10))\n",
    "axes = axes.flatten()\n",
    "\n",
    "for i, column in enumerate(numeric_columns):\n",
    "    stats.probplot(iris_df[column], dist=\"norm\", plot=axes[i])\n",
    "    axes[i].set_title(f\"Q-Q Plot of {column}\")\n",
    "\n",
    "plt.tight_layout()\n",
    "plt.show()"
   ]
  },
  {
   "cell_type": "markdown",
   "metadata": {},
   "source": [
    "So these plots help us learn where the distribution is different from normality. It is clear that sepal width is the most normal as it is the closest to the line. Sepal length is also pretty close to normal, but it deviates a little on the left hand side meaning that the smallest petals are not as short as we would expect given a normal distribution. The two plots for petals also show what might be a pretty strange pattern that is reflected in the histograms we saw in the data wrangler."
   ]
  },
  {
   "cell_type": "markdown",
   "metadata": {},
   "source": [
    "# Faceting data\n",
    "\n",
    "A facet is a originally described as a side of a jewel. So a dimond might have many facet making it look like a jewel and making light shine through it at interesting angles. When we facet data we are similarly trying to look at it from different angles. Often, we will facet data by looking at subgroups within the data set. In this case, the data is not simply four different measurements of flowers, but of three different kinds of flowers that all are in the same family.  \n",
    "\n",
    "When we look at each of the flowers individually, we might discover that our initial exploration of the data was a bit misguided. \n",
    "\n",
    "Below we will create some subgroups in the data. In this case, since the data comes from sklearn and so the commands below are a bit niche. At this point we know that we had imported some sample data and created a DataFrame with them. But this data is partially interesting because of the behaviour of the statistics when we look at the subgroups within it. So where are the labels for the flowers? To investigate this we can look at the original `iris` object, for example with `dir(iris)`. Explore iris.data or iris.target and see what we have. "
   ]
  },
  {
   "cell_type": "code",
   "execution_count": 16,
   "metadata": {},
   "outputs": [
    {
     "data": {
      "text/plain": [
       "['DESCR',\n",
       " 'data',\n",
       " 'data_module',\n",
       " 'feature_names',\n",
       " 'filename',\n",
       " 'frame',\n",
       " 'target',\n",
       " 'target_names']"
      ]
     },
     "execution_count": 16,
     "metadata": {},
     "output_type": "execute_result"
    }
   ],
   "source": [
    "dir(iris)"
   ]
  },
  {
   "cell_type": "markdown",
   "metadata": {},
   "source": [
    "We discover that there is a column `iris.target_names` with flower names. It's the same length as the data, and so we are inclined (rightly) to believe that we can use this as an additional column in the data. In this case, I will create a new column with 'Categorical' data. You can treat this column as string data, but Categorical is a nice way to draw on the assumptions that this data will be used to categorise. String data can also be useful for names, comments, and any body text which are not directly meant for subgrouping. \n"
   ]
  },
  {
   "cell_type": "code",
   "execution_count": 17,
   "metadata": {},
   "outputs": [
    {
     "data": {
      "text/html": [
       "<div>\n",
       "<style scoped>\n",
       "    .dataframe tbody tr th:only-of-type {\n",
       "        vertical-align: middle;\n",
       "    }\n",
       "\n",
       "    .dataframe tbody tr th {\n",
       "        vertical-align: top;\n",
       "    }\n",
       "\n",
       "    .dataframe thead th {\n",
       "        text-align: right;\n",
       "    }\n",
       "</style>\n",
       "<table border=\"1\" class=\"dataframe\">\n",
       "  <thead>\n",
       "    <tr style=\"text-align: right;\">\n",
       "      <th></th>\n",
       "      <th>sepal length (cm)</th>\n",
       "      <th>sepal width (cm)</th>\n",
       "      <th>petal length (cm)</th>\n",
       "      <th>petal width (cm)</th>\n",
       "      <th>species</th>\n",
       "    </tr>\n",
       "  </thead>\n",
       "  <tbody>\n",
       "    <tr>\n",
       "      <th>0</th>\n",
       "      <td>5.1</td>\n",
       "      <td>3.5</td>\n",
       "      <td>1.4</td>\n",
       "      <td>0.2</td>\n",
       "      <td>setosa</td>\n",
       "    </tr>\n",
       "    <tr>\n",
       "      <th>1</th>\n",
       "      <td>4.9</td>\n",
       "      <td>3.0</td>\n",
       "      <td>1.4</td>\n",
       "      <td>0.2</td>\n",
       "      <td>setosa</td>\n",
       "    </tr>\n",
       "    <tr>\n",
       "      <th>2</th>\n",
       "      <td>4.7</td>\n",
       "      <td>3.2</td>\n",
       "      <td>1.3</td>\n",
       "      <td>0.2</td>\n",
       "      <td>setosa</td>\n",
       "    </tr>\n",
       "    <tr>\n",
       "      <th>3</th>\n",
       "      <td>4.6</td>\n",
       "      <td>3.1</td>\n",
       "      <td>1.5</td>\n",
       "      <td>0.2</td>\n",
       "      <td>setosa</td>\n",
       "    </tr>\n",
       "    <tr>\n",
       "      <th>4</th>\n",
       "      <td>5.0</td>\n",
       "      <td>3.6</td>\n",
       "      <td>1.4</td>\n",
       "      <td>0.2</td>\n",
       "      <td>setosa</td>\n",
       "    </tr>\n",
       "    <tr>\n",
       "      <th>...</th>\n",
       "      <td>...</td>\n",
       "      <td>...</td>\n",
       "      <td>...</td>\n",
       "      <td>...</td>\n",
       "      <td>...</td>\n",
       "    </tr>\n",
       "    <tr>\n",
       "      <th>145</th>\n",
       "      <td>6.7</td>\n",
       "      <td>3.0</td>\n",
       "      <td>5.2</td>\n",
       "      <td>2.3</td>\n",
       "      <td>virginica</td>\n",
       "    </tr>\n",
       "    <tr>\n",
       "      <th>146</th>\n",
       "      <td>6.3</td>\n",
       "      <td>2.5</td>\n",
       "      <td>5.0</td>\n",
       "      <td>1.9</td>\n",
       "      <td>virginica</td>\n",
       "    </tr>\n",
       "    <tr>\n",
       "      <th>147</th>\n",
       "      <td>6.5</td>\n",
       "      <td>3.0</td>\n",
       "      <td>5.2</td>\n",
       "      <td>2.0</td>\n",
       "      <td>virginica</td>\n",
       "    </tr>\n",
       "    <tr>\n",
       "      <th>148</th>\n",
       "      <td>6.2</td>\n",
       "      <td>3.4</td>\n",
       "      <td>5.4</td>\n",
       "      <td>2.3</td>\n",
       "      <td>virginica</td>\n",
       "    </tr>\n",
       "    <tr>\n",
       "      <th>149</th>\n",
       "      <td>5.9</td>\n",
       "      <td>3.0</td>\n",
       "      <td>5.1</td>\n",
       "      <td>1.8</td>\n",
       "      <td>virginica</td>\n",
       "    </tr>\n",
       "  </tbody>\n",
       "</table>\n",
       "<p>150 rows × 5 columns</p>\n",
       "</div>"
      ],
      "text/plain": [
       "     sepal length (cm)  sepal width (cm)  petal length (cm)  petal width (cm)  \\\n",
       "0                  5.1               3.5                1.4               0.2   \n",
       "1                  4.9               3.0                1.4               0.2   \n",
       "2                  4.7               3.2                1.3               0.2   \n",
       "3                  4.6               3.1                1.5               0.2   \n",
       "4                  5.0               3.6                1.4               0.2   \n",
       "..                 ...               ...                ...               ...   \n",
       "145                6.7               3.0                5.2               2.3   \n",
       "146                6.3               2.5                5.0               1.9   \n",
       "147                6.5               3.0                5.2               2.0   \n",
       "148                6.2               3.4                5.4               2.3   \n",
       "149                5.9               3.0                5.1               1.8   \n",
       "\n",
       "       species  \n",
       "0       setosa  \n",
       "1       setosa  \n",
       "2       setosa  \n",
       "3       setosa  \n",
       "4       setosa  \n",
       "..         ...  \n",
       "145  virginica  \n",
       "146  virginica  \n",
       "147  virginica  \n",
       "148  virginica  \n",
       "149  virginica  \n",
       "\n",
       "[150 rows x 5 columns]"
      ]
     },
     "execution_count": 17,
     "metadata": {},
     "output_type": "execute_result"
    }
   ],
   "source": [
    "iris_df['species'] = pd.Categorical.from_codes(iris.target, iris.target_names)\n",
    "iris_df"
   ]
  },
  {
   "cell_type": "markdown",
   "metadata": {},
   "source": [
    "This time I will group the various tests we did in a function. Then we will check on these normality assumptions per-species. The function returns the data as a dictionary, which we can either print directly or use to build a table and report on all the results. As we are just learning DataFrames, I will use this opportunity to show how to filter a DataFrame and then query the function with the filtered data. To filter a DataFrame, in depends on whether we are filtering columns or rows. \n",
    "\n",
    "To filter a Series or a DataFrame down to some category, we would first create a new Series with a Boolean value. Then we ask for only the rows where the new Series has the value `True`. So if one of the flowers is \"Setosa\" then `df['Species] == \"Setosa\"` will produce a column with just the rows for the \"Setosa\". We then return to the original DataFrame with this new series and use an `indexer`, (i.e. the `[]`). We can do this in one line as iris_df[df['Species] == \"Setosa\"]. However, that's 'hardcoding' the name \"Setosa\". Instead we want to have a variable so we can iterate through all of them.  \n",
    "\n",
    "For this, I will explore this data using the Data Wrangler. There we can filter using the options and the dialog. We will select a flower type, make the data equal to that and update the viewer. We can then see if the histograms update accordingly. Do they still have a similar shape? \n",
    "\n",
    "If we wanted to alter the data we can select edit and then do the following: \n",
    "\n",
    "`iris_df = iris_df[iris_df[\"species\"]==\"versicolor\"]` and see how the histograms update. \n",
    "\n",
    "Note that this makes a change to the data. If you say `iris_df = ...` then it will rewrite the DataFrame in the code.  Thus, you would not normally use the wrangler for such changes that you want to make permanent. You instead should use it to preview data operations. "
   ]
  },
  {
   "cell_type": "markdown",
   "metadata": {},
   "source": [
    "# Other distributions and what about a more general function? \n",
    "\n",
    "We will not find data online that always approximates a normal distribution. In fact, we are likely to see all different kinds of distributions. In a more general way than with the above tests, we can use a Kolmogorov-Smirnov test statistic and set the distribution. "
   ]
  },
  {
   "cell_type": "code",
   "execution_count": 18,
   "metadata": {},
   "outputs": [
    {
     "data": {
      "text/plain": [
       "Index(['sepal length (cm)', 'sepal width (cm)', 'petal length (cm)',\n",
       "       'petal width (cm)', 'species'],\n",
       "      dtype='object')"
      ]
     },
     "execution_count": 18,
     "metadata": {},
     "output_type": "execute_result"
    }
   ],
   "source": [
    "# I did this here to remind myself the proper column names\n",
    "iris_df.columns"
   ]
  },
  {
   "cell_type": "code",
   "execution_count": 19,
   "metadata": {},
   "outputs": [
    {
     "name": "stdout",
     "output_type": "stream",
     "text": [
      "KstestResult(statistic=np.float64(0.999991460094529), pvalue=np.float64(0.0), statistic_location=np.float64(4.3), statistic_sign=np.int8(-1))\n"
     ]
    }
   ],
   "source": [
    "results = stats.kstest(iris_df['sepal length (cm)'], 'norm')\n",
    "print(results)"
   ]
  },
  {
   "cell_type": "code",
   "execution_count": 20,
   "metadata": {},
   "outputs": [
    {
     "name": "stdout",
     "output_type": "stream",
     "text": [
      "Results of the Kolmogorov-Smirnov test:\n",
      " Score: 1.000 P-value: 0.000\n"
     ]
    }
   ],
   "source": [
    "\n",
    "print(\"Results of the Kolmogorov-Smirnov test:\\n\", \n",
    "      f\"Score: {results.statistic:0.3f}\",\n",
    "      f\"P-value: {results.pvalue:0.3f}\")"
   ]
  },
  {
   "cell_type": "markdown",
   "metadata": {},
   "source": [
    "# Transforming distributions \n",
    "\n",
    "In addition to testing the distribution in its current state, we can also transform a distsribution, either when analysing data or when plotting it. For this we might use a mathematical function. Often when data is highly skewed, transforming it using a different scale can make patterns visible. This is especailly the case for distributions which are 'scale-free' or approximate scale-free distributions. While these may seem obscure, they are relatively common online. For example, the number of links into and out of a website approximate a scale-free distribution. These flowers, constrained by their physical growth wouldn't exhibit a lot of scale-free distributions when measuring their size, so they might not be the best place to look for such distributions by example. \n",
    "\n",
    "Below I will create a distribution that is scale-free, based on a mathematical function. This will be a random draw from a function and so the distribution will be relatively clean. It will also be very steep. However, when we look at it on a log scale (i.e. where each unit represents an increase in _order of magnitude_) it should look roughly like a straight line. Imagine that this represents the distribution of followers on X, or links into a website. Do you have an intuitive sense of why it would look like a straight line when log transformed?  "
   ]
  },
  {
   "cell_type": "code",
   "execution_count": 22,
   "metadata": {},
   "outputs": [
    {
     "data": {
      "image/png": "[encoded data removed]",
      "text/plain": [
       "<Figure size 1500x600 with 2 Axes>"
      ]
     },
     "metadata": {},
     "output_type": "display_data"
    }
   ],
   "source": [
    "# Generate scale-free distribution\n",
    "def scale_free_distribution(n, alpha):\n",
    "    return (np.random.pareto(alpha, n) + 1)\n",
    "\n",
    "# Parameters\n",
    "n = 100000  # number of data points\n",
    "alpha = 2.5 # power law exponent\n",
    "\n",
    "# Generate data\n",
    "data = scale_free_distribution(n, alpha)\n",
    "\n",
    "# Create side-by-side plots\n",
    "fig, (ax1, ax2) = plt.subplots(1, 2, figsize=(15, 6))\n",
    "\n",
    "# Linear scale plot\n",
    "ax1.hist(data, bins=100, density=True, alpha=0.7)\n",
    "ax1.set_title('Scale-Free Distribution (Linear Scale)')\n",
    "ax1.set_xlabel('Value')\n",
    "ax1.set_ylabel('Frequency')\n",
    "\n",
    "# Log-log scale plot\n",
    "ax2.hist(data, bins=100, density=True, alpha=0.7)\n",
    "ax2.set_xscale('log')\n",
    "ax2.set_yscale('log')\n",
    "ax2.set_title('Scale-Free Distribution (Log-Log Scale)')\n",
    "ax2.set_xlabel('Value (log)')\n",
    "ax2.set_ylabel('Frequency (log)')\n",
    "\n",
    "plt.show()"
   ]
  },
  {
   "cell_type": "code",
   "execution_count": 23,
   "metadata": {},
   "outputs": [
    {
     "name": "stdout",
     "output_type": "stream",
     "text": [
      "KS Statistic: 1.0\n",
      "p-value: 0.0\n"
     ]
    }
   ],
   "source": [
    "# Perform KS test\n",
    "ks_statistic, p_value = stats.kstest(data, 'powerlaw', args=[alpha])\n",
    "\n",
    "print(f\"KS Statistic: {ks_statistic}\")\n",
    "print(f\"p-value: {p_value}\")"
   ]
  },
  {
   "cell_type": "markdown",
   "metadata": {},
   "source": [
    "In this case, the p-value was effectively 0. In no way does this distribution significantly differ from a powerlaw. This is to be expected since we used a powerlaw (i.e. scale-free) algorithm to create the distribution. But what about distributions in real life? "
   ]
  },
  {
   "cell_type": "markdown",
   "metadata": {},
   "source": [
    "# Using more involved data: Stack Exchange\n",
    "\n",
    "The distributions with the flowers were relatively unremarkable. They were more or less normally distributed, although the statistical tests showed that some were significantly further away from normal than others. A lot of data has very skewed distributions. Also, a lot of data sources need considerable pre-processing before we can do anything with them. \n",
    "\n",
    "Below I will show you how to get started with some data from the Movie Stack Exchange. At present, backups of this data are tied up in the recent breach of internet archive. So we will be using a historical copy. This data has already had considerable pre-processing, though we will see how to do such preprocessing as time goes on. \n",
    "\n",
    "The data is in `*.feather` format, which is a format that can be read by `pandas`, in fact it was written by the same people. We will import the data and then have a DataFrame to work with. Each column of the data can be considered a Series, but you will see with this data that the distributions are very different. This is partially on account of the way that the data is structured. It includes both questions and answers. It is also on account of the nature of Stack Exchange (and social media sites generally) where few comments and articles have a lot of attention and a lot of comments and articles have little attention. \n",
    "\n",
    "We will first load the data and then look at it in the Wrangler. \n"
   ]
  },
  {
   "cell_type": "code",
   "execution_count": 26,
   "metadata": {},
   "outputs": [
    {
     "name": "stdout",
     "output_type": "stream",
     "text": [
      "64054\n"
     ]
    }
   ],
   "source": [
    "import pandas as pd\n",
    "import os \n",
    "\n",
    "stack_df = pd.read_feather(\"/Users/charliewang/Desktop/OII/Intro to Python/Week 1/data/movies_stack_df.feather\")\n",
    "print(len(stack_df))"
   ]
  },
  {
   "cell_type": "markdown",
   "metadata": {},
   "source": [
    "Notice that this has much more heterogenous data. For example `PostTypeId` has several different values. It reports on the most common values and then says \"other\". How might we display all of these values and their counts? This is pandas's `value_counts()` operation. It works on a `Series`. Observe:"
   ]
  },
  {
   "cell_type": "code",
   "execution_count": 27,
   "metadata": {},
   "outputs": [
    {
     "data": {
      "text/plain": [
       "PostTypeId\n",
       "2    37036\n",
       "1    22570\n",
       "5     2211\n",
       "4     2211\n",
       "6       21\n",
       "7        5\n",
       "Name: count, dtype: int64"
      ]
     },
     "execution_count": 27,
     "metadata": {},
     "output_type": "execute_result"
    }
   ],
   "source": [
    "stack_df[\"PostTypeId\"].value_counts()"
   ]
  },
  {
   "cell_type": "markdown",
   "metadata": {},
   "source": [
    "Notice that this value_counts reported the data from the most to the least fequent. To change this we can use an argument. To remind, methods (and functions) have parameters that can be set. If you hover over value_counts then it should show the parameters for that method. Notice that there is one called \"ascending\". The default argument is `False` but if we set it to `True` then we can see them in the sorted order: "
   ]
  },
  {
   "cell_type": "code",
   "execution_count": 28,
   "metadata": {},
   "outputs": [
    {
     "data": {
      "text/plain": [
       "PostTypeId\n",
       "7        5\n",
       "6       21\n",
       "5     2211\n",
       "4     2211\n",
       "1    22570\n",
       "2    37036\n",
       "Name: count, dtype: int64"
      ]
     },
     "execution_count": 28,
     "metadata": {},
     "output_type": "execute_result"
    }
   ],
   "source": [
    "stack_df[\"PostTypeId\"].value_counts(ascending=True)"
   ]
  },
  {
   "cell_type": "markdown",
   "metadata": {},
   "source": [
    "If we want to change it so that it is in the order of the index, this is slightly different. Value counts returns a series with the categories that were counted. But this works just like any other series. To sort a series we can use `.sort_index()` and choose the desired arguments. So we will make the result of the value_counts its own variable and then use `sort_index`. "
   ]
  },
  {
   "cell_type": "code",
   "execution_count": 30,
   "metadata": {},
   "outputs": [
    {
     "data": {
      "text/plain": [
       "PostTypeId\n",
       "1    22570\n",
       "2    37036\n",
       "4     2211\n",
       "5     2211\n",
       "6       21\n",
       "7        5\n",
       "Name: count, dtype: int64"
      ]
     },
     "execution_count": 30,
     "metadata": {},
     "output_type": "execute_result"
    }
   ],
   "source": [
    "post_type = stack_df[\"PostTypeId\"].value_counts()\n",
    "post_type.sort_index()"
   ]
  },
  {
   "cell_type": "markdown",
   "metadata": {},
   "source": [
    "What does PostTypeId 1 or 2 even mean? Since this data comes from Stack Exchange, we can look to their schema, which is posted at the following url: https://meta.stackexchange.com/questions/2677/database-schema-documentation-for-the-public-data-dump-and-sede\n",
    "\n",
    "We will discover the key for this data. We can use that key to relabel our data. We can either relabel it in the value counts or in the original. Further, we can replace the data or create a new column. In this case, I will add a new column called \"PostTypeLabel\". This is also an opportunity to show the `map` function in pandas, where a Series is converted from the keys of the dictionary into the values specified in a dictionary. We \"map\" the keys we have on to the values we want. "
   ]
  },
  {
   "cell_type": "code",
   "execution_count": 31,
   "metadata": {},
   "outputs": [],
   "source": [
    "new_labels = {\n",
    "    '1': \"Question\",\n",
    "    '2': \"Answer\", \n",
    "    '3': \"Orphaned tag wiki\",\n",
    "    '4': \"Tag wiki excerpt\",\n",
    "    '5': \"Tag wiki\",\n",
    "    '6': \"Moderator nomination\", \n",
    "    '7': \"Wiki placeholder\"    \n",
    "}\n",
    "\n",
    "# There are in fact 15 tags, but our data only includes the first seven. \n",
    "\n",
    "stack_df[\"PostTypeLabel\"] = stack_df[\"PostTypeId\"].map(new_labels)"
   ]
  },
  {
   "cell_type": "markdown",
   "metadata": {},
   "source": [
    "Now if we want to have a subgroup of the data for analysis, we can use `stack_df[\"PostTypeLabel\"] == \"Question\"` as a \"mask\". Note that if we edit the data that has been masked it will still update the original table (and may throw a warning).  "
   ]
  },
  {
   "cell_type": "code",
   "execution_count": 32,
   "metadata": {},
   "outputs": [
    {
     "name": "stdout",
     "output_type": "stream",
     "text": [
      "The data originally has 64054 rows.\n",
      "When masked by question the data has 22570 rows.\n"
     ]
    }
   ],
   "source": [
    "print(f\"The data originally has {len(stack_df)} rows.\")\n",
    "\n",
    "question_mask = stack_df[\"PostTypeLabel\"] == \"Question\"\n",
    "question_view = stack_df[question_mask]\n",
    "\n",
    "print(f\"When masked by question the data has {len(question_view)} rows.\")"
   ]
  },
  {
   "cell_type": "code",
   "execution_count": 33,
   "metadata": {},
   "outputs": [
    {
     "name": "stdout",
     "output_type": "stream",
     "text": [
      "When using a Query by question the data has 22570 rows.\n",
      "When using a Query by question the data has 22570 rows.\n"
     ]
    }
   ],
   "source": [
    "# Alternative ways (Since Python has many):\n",
    "\n",
    "# Querying\n",
    "question_view = stack_df.query(\"PostTypeLabel == 'Question'\")\n",
    "print(f\"When using a Query by question the data has {len(question_view)} rows.\")\n",
    "\n",
    "# Using a locator to filter\n",
    "question_view = stack_df.loc[stack_df[\"PostTypeLabel\"] == \"Question\"]\n",
    "print(f\"When using a Query by question the data has {len(question_view)} rows.\")\n"
   ]
  },
  {
   "cell_type": "markdown",
   "metadata": {},
   "source": [
    "We can observe this change in the Data Wrangler by pressing \"refresh\". The column was appended at the end of the table.\n",
    "\n",
    "The lab for today begins where this walkthrough ends. We now have data on Stack Exchange, we know how to do operations on a Series, and we have seen a little visualisation. In order to complete these exercises, you might need to refer either to a chatbot or to the course material. The important details will be found in Chapters 2 (primarily), 3, and 9 of \"From Social Science to Data Science\". \n",
    "\n",
    "The lab itself is called `Week01_1_Lab_Distributions.ipynb`. "
   ]
  },
  {
   "cell_type": "markdown",
   "metadata": {},
   "source": [
    "# AI Declaration \n",
    "\n",
    "In the above writing, Claude Sonnet 3.5 was used to assist in the drafting of this walkthrough. Claude was asked about tests for normality, drafting of visiualisations, and some data wrangling. Code from Claude was often modified for several reasons. First, the use of generic variable labels, like `stats` created bugs since we are using the scipy.stats package. Second, Claude would sometimes hard code names like 'setosa' inside of a function which is not ideal and were removed. Claude also provided some relatively complex ways to perform transformations and tests for normality which were either overkill or fragile. Code was edited to be as simple as possible, while still being functional and readable. Limited robustness was embedded in the code but that would be suitable for future work. Copilot and co-assist tools were not used except Visual Studio's default autocomplete and highlighting. "
   ]
  }
 ],
 "metadata": {
  "kernelspec": {
   "display_name": ".venv",
   "language": "python",
   "name": "python3"
  },
  "language_info": {
   "codemirror_mode": {
    "name": "ipython",
    "version": 3
   },
   "file_extension": ".py",
   "mimetype": "text/x-python",
   "name": "python",
   "nbconvert_exporter": "python",
   "pygments_lexer": "ipython3",
   "version": "3.9.6"
  }
 },
 "nbformat": 4,
 "nbformat_minor": 2
}
